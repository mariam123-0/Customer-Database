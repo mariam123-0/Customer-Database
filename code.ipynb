{
 "cells": [
  {
   "cell_type": "code",
   "execution_count": 0,
   "metadata": {
    "application/vnd.databricks.v1+cell": {
     "cellMetadata": {
      "byteLimit": 2048000,
      "rowLimit": 10000
     },
     "inputWidgets": {},
     "nuid": "bc250a4e-53b4-4cfa-bc3b-2a02705c49b2",
     "showTitle": false,
     "tableResultSettingsMap": {},
     "title": ""
    }
   },
   "outputs": [],
   "source": [
    "spark.conf.set(\n",
    "  \"fs.azure.account.key.mariamstorageaccount123.dfs.core.windows.net\",\n",
    "  \"tI6bWp5XyyKBhDYdcSuJIhHbkh6kXVYtNFkyOUt+hfJVEyUWq21njb21Irnkw6ojMuifGyLziShe+AStGlVL3g==\")"
   ]
  },
  {
   "cell_type": "code",
   "execution_count": 0,
   "metadata": {
    "application/vnd.databricks.v1+cell": {
     "cellMetadata": {
      "byteLimit": 2048000,
      "rowLimit": 10000
     },
     "inputWidgets": {},
     "nuid": "5c8d2c21-5ee1-481f-a88a-dee5c5223d71",
     "showTitle": false,
     "tableResultSettingsMap": {},
     "title": ""
    }
   },
   "outputs": [
    {
     "output_type": "stream",
     "name": "stdout",
     "output_type": "stream",
     "text": [
      "+----------+-----------------+-----------+-----+\n|product_id|     product_name|   category|price|\n+----------+-----------------+-----------+-----+\n|         1|   Wireless Mouse|Electronics|  800|\n|         2|Bluetooth Speaker|Electronics| 1200|\n|         3|         Yoga Mat|    Fitness|  499|\n|         4|     Laptop Stand|Accessories|  999|\n|         5|     Notebook Set| Stationery|  149|\n+----------+-----------------+-----------+-----+\nonly showing top 5 rows\n"
     ]
    }
   ],
   "source": [
    "df_products = spark.read.parquet(\"abfss://retail@mariamstorageaccount123.dfs.core.windows.net/dbo.products.parquet\")\n",
    "df_products.show(5)"
   ]
  },
  {
   "cell_type": "code",
   "execution_count": 0,
   "metadata": {
    "application/vnd.databricks.v1+cell": {
     "cellMetadata": {
      "byteLimit": 2048000,
      "rowLimit": 10000
     },
     "inputWidgets": {},
     "nuid": "8aca53fb-8af7-46c2-a61c-d0057b8ed256",
     "showTitle": false,
     "tableResultSettingsMap": {},
     "title": ""
    }
   },
   "outputs": [
    {
     "output_type": "stream",
     "name": "stdout",
     "output_type": "stream",
     "text": [
      "+--------------+-----------+----------+--------+--------+----------------+\n|transaction_id|customer_id|product_id|store_id|quantity|transaction_date|\n+--------------+-----------+----------+--------+--------+----------------+\n|            31|        101|         1|       1|       3|      2025-04-01|\n|            32|        102|         2|       2|       2|      2025-04-03|\n|            33|        103|         3|       3|       1|      2025-04-05|\n|            34|        104|         4|       4|       5|      2025-04-07|\n|            35|        105|         5|       5|       2|      2025-04-09|\n+--------------+-----------+----------+--------+--------+----------------+\nonly showing top 5 rows\n"
     ]
    }
   ],
   "source": [
    "df_transaction = spark.read.parquet(\"abfss://retail@mariamstorageaccount123.dfs.core.windows.net/dbo.transactions.parquet\")\n",
    "df_transaction.show(5)"
   ]
  },
  {
   "cell_type": "code",
   "execution_count": 0,
   "metadata": {
    "application/vnd.databricks.v1+cell": {
     "cellMetadata": {
      "byteLimit": 2048000,
      "rowLimit": 10000
     },
     "inputWidgets": {},
     "nuid": "870b99b5-cc25-44ae-ba27-ffffe400ca44",
     "showTitle": false,
     "tableResultSettingsMap": {},
     "title": ""
    }
   },
   "outputs": [
    {
     "output_type": "stream",
     "name": "stdout",
     "output_type": "stream",
     "text": [
      "+--------+--------------------+------------+\n|store_id|          store_name|    location|\n+--------+--------------------+------------+\n|       1|     City Mall Store|         UAE|\n|       2|   High Street Store|Saudi Arabia|\n|       3|   Tech World Outlet|       Qatar|\n|       4|Cairo Festival Ci...|       Egypt|\n|       5|          Mega Plaza|      Kuwait|\n+--------+--------------------+------------+\n\n"
     ]
    }
   ],
   "source": [
    "df_stores= spark.read.parquet(\"abfss://retail@mariamstorageaccount123.dfs.core.windows.net/dbo.stores.parquet\")\n",
    "df_stores.show(5)"
   ]
  },
  {
   "cell_type": "code",
   "execution_count": 0,
   "metadata": {
    "application/vnd.databricks.v1+cell": {
     "cellMetadata": {
      "byteLimit": 2048000,
      "rowLimit": 10000
     },
     "inputWidgets": {},
     "nuid": "f4dc1589-2f1b-4a52-82c7-da4d78ae99a7",
     "showTitle": false,
     "tableResultSettingsMap": {},
     "title": ""
    }
   },
   "outputs": [
    {
     "output_type": "stream",
     "name": "stdout",
     "output_type": "stream",
     "text": [
      "+-----------+----------------+--------------------+------------+-----------------+\n|customer_id|       full_name|               email|     country|registration_date|\n+-----------+----------------+--------------------+------------+-----------------+\n|        101|    Ahmed Khaled|ahmed.khaled1@gma...|       Egypt|       2025-10-16|\n|        102| Sara Al Mansour|sara.almansour2@o...|Saudi Arabia|       2025-10-18|\n|        103|    Layla Kazemi|layla.kazemi3@yah...|         UAE|       2025-10-19|\n|        104|     Omar Farouk|omar.farouk4@gmai...|       Egypt|       2025-10-17|\n|        105|Fatima Al Rashid|fatima.alrashid5@...|Saudi Arabia|       2025-10-15|\n+-----------+----------------+--------------------+------------+-----------------+\nonly showing top 5 rows\n"
     ]
    }
   ],
   "source": [
    "df_customers = spark.read.parquet(\"abfss://retail@mariamstorageaccount123.dfs.core.windows.net/MohammedHameds/Retails_Project/refs/heads/main/dataset/customers.parquet\")\n",
    "df_customers.show(5)"
   ]
  },
  {
   "cell_type": "code",
   "execution_count": 0,
   "metadata": {
    "application/vnd.databricks.v1+cell": {
     "cellMetadata": {
      "byteLimit": 2048000,
      "rowLimit": 10000
     },
     "inputWidgets": {},
     "nuid": "5daf4e07-e544-4e99-bd52-f4b1aae4ce94",
     "showTitle": false,
     "tableResultSettingsMap": {},
     "title": ""
    }
   },
   "outputs": [],
   "source": [
    "df_stores.write.mode(\"overwrite\").saveAsTable(\"cat1.sales.store_bronze\")"
   ]
  },
  {
   "cell_type": "code",
   "execution_count": 0,
   "metadata": {
    "application/vnd.databricks.v1+cell": {
     "cellMetadata": {
      "byteLimit": 2048000,
      "rowLimit": 10000
     },
     "inputWidgets": {},
     "nuid": "b56c024a-7001-4943-84b1-8b187bce0b9b",
     "showTitle": false,
     "tableResultSettingsMap": {},
     "title": ""
    }
   },
   "outputs": [],
   "source": [
    "df_transaction.write.mode(\"overwrite\").saveAsTable(\"cat1.sales.transactions_bronze\")"
   ]
  },
  {
   "cell_type": "code",
   "execution_count": 0,
   "metadata": {
    "application/vnd.databricks.v1+cell": {
     "cellMetadata": {
      "byteLimit": 2048000,
      "rowLimit": 10000
     },
     "inputWidgets": {},
     "nuid": "bc30bd00-8d65-4ea8-be47-5d4159117b44",
     "showTitle": false,
     "tableResultSettingsMap": {},
     "title": ""
    }
   },
   "outputs": [],
   "source": [
    "df_products.write.mode(\"overwrite\").saveAsTable(\"cat1.sales.products_bronze\")"
   ]
  },
  {
   "cell_type": "code",
   "execution_count": 0,
   "metadata": {
    "application/vnd.databricks.v1+cell": {
     "cellMetadata": {
      "byteLimit": 2048000,
      "rowLimit": 10000
     },
     "inputWidgets": {},
     "nuid": "2a65b530-10b4-43dc-a0c4-69a551c777ab",
     "showTitle": false,
     "tableResultSettingsMap": {},
     "title": ""
    }
   },
   "outputs": [],
   "source": [
    "df_customers.write.mode(\"overwrite\").saveAsTable(\"cat1.sales.customers_bronze\")"
   ]
  },
  {
   "cell_type": "code",
   "execution_count": 0,
   "metadata": {
    "application/vnd.databricks.v1+cell": {
     "cellMetadata": {
      "byteLimit": 2048000,
      "rowLimit": 10000
     },
     "inputWidgets": {},
     "nuid": "7b73e4b7-563c-49ba-97fc-0467e41be1e0",
     "showTitle": false,
     "tableResultSettingsMap": {},
     "title": ""
    }
   },
   "outputs": [
    {
     "output_type": "display_data",
     "data": {
      "text/html": [
       "<style scoped>\n",
       "  .table-result-container {\n",
       "    max-height: 300px;\n",
       "    overflow: auto;\n",
       "  }\n",
       "  table, th, td {\n",
       "    border: 1px solid black;\n",
       "    border-collapse: collapse;\n",
       "  }\n",
       "  th, td {\n",
       "    padding: 5px;\n",
       "  }\n",
       "  th {\n",
       "    text-align: left;\n",
       "  }\n",
       "</style><div class='table-result-container'><table class='table-result'><thead style='background-color: white'><tr><th>customer_id</th><th>full_name</th><th>email</th><th>country</th><th>registration_date</th></tr></thead><tbody><tr><td>101</td><td>Ahmed Khaled</td><td>ahmed.khaled1@gmail.com</td><td>Egypt</td><td>2025-10-16</td></tr><tr><td>102</td><td>Sara Al Mansour</td><td>sara.almansour2@outlook.com</td><td>Saudi Arabia</td><td>2025-10-18</td></tr><tr><td>103</td><td>Layla Kazemi</td><td>layla.kazemi3@yahoo.com</td><td>UAE</td><td>2025-10-19</td></tr><tr><td>104</td><td>Omar Farouk</td><td>omar.farouk4@gmail.com</td><td>Egypt</td><td>2025-10-17</td></tr><tr><td>105</td><td>Fatima Al Rashid</td><td>fatima.alrashid5@hotmail.com</td><td>Saudi Arabia</td><td>2025-10-15</td></tr><tr><td>106</td><td>Yousef Nasser</td><td>yousef.nasser6@gmail.com</td><td>UAE</td><td>2025-10-16</td></tr><tr><td>107</td><td>Mona Hossam</td><td>mona.hossam7@yahoo.com</td><td>Egypt</td><td>2025-10-18</td></tr><tr><td>108</td><td>Hassan Al Saud</td><td>hassan.alsaud8@outlook.com</td><td>Saudi Arabia</td><td>2025-10-19</td></tr><tr><td>109</td><td>Ayesha Khan</td><td>ayesha.khan9@gmail.com</td><td>UAE</td><td>2025-10-15</td></tr><tr><td>110</td><td>Tamer Adel</td><td>tamer.adel10@hotmail.com</td><td>Egypt</td><td>2025-10-17</td></tr><tr><td>111</td><td>Rania Saad</td><td>rania.saad11@gmail.com</td><td>Saudi Arabia</td><td>2025-10-16</td></tr><tr><td>112</td><td>Karim Hamed</td><td>karim.hamed12@yahoo.com</td><td>UAE</td><td>2025-10-18</td></tr><tr><td>113</td><td>Laila Fouad</td><td>laila.fouad13@gmail.com</td><td>Egypt</td><td>2025-10-19</td></tr><tr><td>114</td><td>Sami Al Obaid</td><td>sami.alobaid14@outlook.com</td><td>Saudi Arabia</td><td>2025-10-15</td></tr><tr><td>115</td><td>Dina Samir</td><td>dina.samir15@hotmail.com</td><td>UAE</td><td>2025-10-17</td></tr><tr><td>116</td><td>Adel Nabil</td><td>adel.nabil16@gmail.com</td><td>Egypt</td><td>2025-10-16</td></tr><tr><td>117</td><td>Mariam Al Farsi</td><td>mariam.alfarsi17@outlook.com</td><td>Saudi Arabia</td><td>2025-10-18</td></tr><tr><td>118</td><td>Omar Al Mazrouei</td><td>omar.almazrouei18@yahoo.com</td><td>UAE</td><td>2025-10-19</td></tr><tr><td>119</td><td>Nour Khalifa</td><td>nour.khalifa19@gmail.com</td><td>Egypt</td><td>2025-10-15</td></tr><tr><td>120</td><td>Yara Saleh</td><td>yara.saleh20@hotmail.com</td><td>Saudi Arabia</td><td>2025-10-17</td></tr><tr><td>121</td><td>Tariq Hassan</td><td>tariq.hassan21@gmail.com</td><td>UAE</td><td>2025-10-16</td></tr><tr><td>122</td><td>Lina Abdul</td><td>lina.abdul22@outlook.com</td><td>Egypt</td><td>2025-10-18</td></tr><tr><td>123</td><td>Rami Al Zahrani</td><td>rami.alzahrani23@yahoo.com</td><td>Saudi Arabia</td><td>2025-10-19</td></tr><tr><td>124</td><td>Samar Fouad</td><td>samar.fouad24@gmail.com</td><td>UAE</td><td>2025-10-15</td></tr><tr><td>125</td><td>Huda Nasser</td><td>huda.nasser25@hotmail.com</td><td>Egypt</td><td>2025-10-17</td></tr><tr><td>126</td><td>Mohammed Al Amiri</td><td>mohammed.alamiri26@gmail.com</td><td>Saudi Arabia</td><td>2025-10-16</td></tr><tr><td>127</td><td>Leila Hassan</td><td>leila.hassan27@outlook.com</td><td>UAE</td><td>2025-10-18</td></tr><tr><td>128</td><td>Omar Saleh</td><td>omar.saleh28@yahoo.com</td><td>Egypt</td><td>2025-10-19</td></tr><tr><td>129</td><td>Nadia Khaled</td><td>nadia.khaled29@gmail.com</td><td>Saudi Arabia</td><td>2025-10-15</td></tr><tr><td>130</td><td>Rashid Al Habib</td><td>rashid.alhabib30@hotmail.com</td><td>UAE</td><td>2025-10-17</td></tr><tr><td>131</td><td>Dalia Samir</td><td>dalia.samir31@gmail.com</td><td>Egypt</td><td>2025-10-16</td></tr><tr><td>132</td><td>Faisal Al Saud</td><td>faisal.alsaud32@outlook.com</td><td>Saudi Arabia</td><td>2025-10-18</td></tr><tr><td>133</td><td>Mona Youssef</td><td>mona.youssef33@yahoo.com</td><td>UAE</td><td>2025-10-19</td></tr><tr><td>134</td><td>Hani Adel</td><td>hani.adel34@gmail.com</td><td>Egypt</td><td>2025-10-15</td></tr><tr><td>135</td><td>Aya Al Khalifa</td><td>aya.alkhalifa35@hotmail.com</td><td>Saudi Arabia</td><td>2025-10-17</td></tr><tr><td>136</td><td>Khaled Mazrouei</td><td>khaled.mazrouei36@gmail.com</td><td>UAE</td><td>2025-10-16</td></tr><tr><td>137</td><td>Salma Hossam</td><td>salma.hossam37@outlook.com</td><td>Egypt</td><td>2025-10-18</td></tr><tr><td>138</td><td>Youssef Al Farsi</td><td>youssef.alfarsi38@yahoo.com</td><td>Saudi Arabia</td><td>2025-10-19</td></tr><tr><td>139</td><td>Nour Al Rashid</td><td>nour.alrashid39@gmail.com</td><td>UAE</td><td>2025-10-15</td></tr><tr><td>140</td><td>Tamer Nabil</td><td>tamer.nabil40@hotmail.com</td><td>Egypt</td><td>2025-10-17</td></tr><tr><td>141</td><td>Lina Al Saud</td><td>lina.alsaud41@gmail.com</td><td>Saudi Arabia</td><td>2025-10-16</td></tr><tr><td>142</td><td>Rami Khaled</td><td>rami.khaled42@outlook.com</td><td>UAE</td><td>2025-10-18</td></tr><tr><td>143</td><td>Dina Saleh</td><td>dina.saleh43@yahoo.com</td><td>Egypt</td><td>2025-10-19</td></tr><tr><td>144</td><td>Adel Al Mansour</td><td>adel.almansour44@gmail.com</td><td>Saudi Arabia</td><td>2025-10-15</td></tr><tr><td>145</td><td>Mariam Hossam</td><td>mariam.hossam45@hotmail.com</td><td>UAE</td><td>2025-10-17</td></tr><tr><td>146</td><td>Omar Khalifa</td><td>omar.khalifa46@gmail.com</td><td>Egypt</td><td>2025-10-16</td></tr><tr><td>147</td><td>Fatima Al Mazrouei</td><td>fatima.almazrouei47@outlook.com</td><td>Saudi Arabia</td><td>2025-10-18</td></tr><tr><td>148</td><td>Yara Nasser</td><td>yara.nasser48@yahoo.com</td><td>UAE</td><td>2025-10-19</td></tr><tr><td>149</td><td>Hassan Adel</td><td>hassan.adel49@gmail.com</td><td>Egypt</td><td>2025-10-15</td></tr><tr><td>150</td><td>Leila Al Saud</td><td>leila.alsaud50@hotmail.com</td><td>Saudi Arabia</td><td>2025-10-17</td></tr></tbody></table></div>"
      ]
     },
     "metadata": {
      "application/vnd.databricks.v1+output": {
       "addedWidgets": {},
       "aggData": [],
       "aggError": "",
       "aggOverflow": false,
       "aggSchema": [],
       "aggSeriesLimitReached": false,
       "aggType": "",
       "arguments": {},
       "columnCustomDisplayInfos": {},
       "data": [
        [
         101,
         "Ahmed Khaled",
         "ahmed.khaled1@gmail.com",
         "Egypt",
         "2025-10-16"
        ],
        [
         102,
         "Sara Al Mansour",
         "sara.almansour2@outlook.com",
         "Saudi Arabia",
         "2025-10-18"
        ],
        [
         103,
         "Layla Kazemi",
         "layla.kazemi3@yahoo.com",
         "UAE",
         "2025-10-19"
        ],
        [
         104,
         "Omar Farouk",
         "omar.farouk4@gmail.com",
         "Egypt",
         "2025-10-17"
        ],
        [
         105,
         "Fatima Al Rashid",
         "fatima.alrashid5@hotmail.com",
         "Saudi Arabia",
         "2025-10-15"
        ],
        [
         106,
         "Yousef Nasser",
         "yousef.nasser6@gmail.com",
         "UAE",
         "2025-10-16"
        ],
        [
         107,
         "Mona Hossam",
         "mona.hossam7@yahoo.com",
         "Egypt",
         "2025-10-18"
        ],
        [
         108,
         "Hassan Al Saud",
         "hassan.alsaud8@outlook.com",
         "Saudi Arabia",
         "2025-10-19"
        ],
        [
         109,
         "Ayesha Khan",
         "ayesha.khan9@gmail.com",
         "UAE",
         "2025-10-15"
        ],
        [
         110,
         "Tamer Adel",
         "tamer.adel10@hotmail.com",
         "Egypt",
         "2025-10-17"
        ],
        [
         111,
         "Rania Saad",
         "rania.saad11@gmail.com",
         "Saudi Arabia",
         "2025-10-16"
        ],
        [
         112,
         "Karim Hamed",
         "karim.hamed12@yahoo.com",
         "UAE",
         "2025-10-18"
        ],
        [
         113,
         "Laila Fouad",
         "laila.fouad13@gmail.com",
         "Egypt",
         "2025-10-19"
        ],
        [
         114,
         "Sami Al Obaid",
         "sami.alobaid14@outlook.com",
         "Saudi Arabia",
         "2025-10-15"
        ],
        [
         115,
         "Dina Samir",
         "dina.samir15@hotmail.com",
         "UAE",
         "2025-10-17"
        ],
        [
         116,
         "Adel Nabil",
         "adel.nabil16@gmail.com",
         "Egypt",
         "2025-10-16"
        ],
        [
         117,
         "Mariam Al Farsi",
         "mariam.alfarsi17@outlook.com",
         "Saudi Arabia",
         "2025-10-18"
        ],
        [
         118,
         "Omar Al Mazrouei",
         "omar.almazrouei18@yahoo.com",
         "UAE",
         "2025-10-19"
        ],
        [
         119,
         "Nour Khalifa",
         "nour.khalifa19@gmail.com",
         "Egypt",
         "2025-10-15"
        ],
        [
         120,
         "Yara Saleh",
         "yara.saleh20@hotmail.com",
         "Saudi Arabia",
         "2025-10-17"
        ],
        [
         121,
         "Tariq Hassan",
         "tariq.hassan21@gmail.com",
         "UAE",
         "2025-10-16"
        ],
        [
         122,
         "Lina Abdul",
         "lina.abdul22@outlook.com",
         "Egypt",
         "2025-10-18"
        ],
        [
         123,
         "Rami Al Zahrani",
         "rami.alzahrani23@yahoo.com",
         "Saudi Arabia",
         "2025-10-19"
        ],
        [
         124,
         "Samar Fouad",
         "samar.fouad24@gmail.com",
         "UAE",
         "2025-10-15"
        ],
        [
         125,
         "Huda Nasser",
         "huda.nasser25@hotmail.com",
         "Egypt",
         "2025-10-17"
        ],
        [
         126,
         "Mohammed Al Amiri",
         "mohammed.alamiri26@gmail.com",
         "Saudi Arabia",
         "2025-10-16"
        ],
        [
         127,
         "Leila Hassan",
         "leila.hassan27@outlook.com",
         "UAE",
         "2025-10-18"
        ],
        [
         128,
         "Omar Saleh",
         "omar.saleh28@yahoo.com",
         "Egypt",
         "2025-10-19"
        ],
        [
         129,
         "Nadia Khaled",
         "nadia.khaled29@gmail.com",
         "Saudi Arabia",
         "2025-10-15"
        ],
        [
         130,
         "Rashid Al Habib",
         "rashid.alhabib30@hotmail.com",
         "UAE",
         "2025-10-17"
        ],
        [
         131,
         "Dalia Samir",
         "dalia.samir31@gmail.com",
         "Egypt",
         "2025-10-16"
        ],
        [
         132,
         "Faisal Al Saud",
         "faisal.alsaud32@outlook.com",
         "Saudi Arabia",
         "2025-10-18"
        ],
        [
         133,
         "Mona Youssef",
         "mona.youssef33@yahoo.com",
         "UAE",
         "2025-10-19"
        ],
        [
         134,
         "Hani Adel",
         "hani.adel34@gmail.com",
         "Egypt",
         "2025-10-15"
        ],
        [
         135,
         "Aya Al Khalifa",
         "aya.alkhalifa35@hotmail.com",
         "Saudi Arabia",
         "2025-10-17"
        ],
        [
         136,
         "Khaled Mazrouei",
         "khaled.mazrouei36@gmail.com",
         "UAE",
         "2025-10-16"
        ],
        [
         137,
         "Salma Hossam",
         "salma.hossam37@outlook.com",
         "Egypt",
         "2025-10-18"
        ],
        [
         138,
         "Youssef Al Farsi",
         "youssef.alfarsi38@yahoo.com",
         "Saudi Arabia",
         "2025-10-19"
        ],
        [
         139,
         "Nour Al Rashid",
         "nour.alrashid39@gmail.com",
         "UAE",
         "2025-10-15"
        ],
        [
         140,
         "Tamer Nabil",
         "tamer.nabil40@hotmail.com",
         "Egypt",
         "2025-10-17"
        ],
        [
         141,
         "Lina Al Saud",
         "lina.alsaud41@gmail.com",
         "Saudi Arabia",
         "2025-10-16"
        ],
        [
         142,
         "Rami Khaled",
         "rami.khaled42@outlook.com",
         "UAE",
         "2025-10-18"
        ],
        [
         143,
         "Dina Saleh",
         "dina.saleh43@yahoo.com",
         "Egypt",
         "2025-10-19"
        ],
        [
         144,
         "Adel Al Mansour",
         "adel.almansour44@gmail.com",
         "Saudi Arabia",
         "2025-10-15"
        ],
        [
         145,
         "Mariam Hossam",
         "mariam.hossam45@hotmail.com",
         "UAE",
         "2025-10-17"
        ],
        [
         146,
         "Omar Khalifa",
         "omar.khalifa46@gmail.com",
         "Egypt",
         "2025-10-16"
        ],
        [
         147,
         "Fatima Al Mazrouei",
         "fatima.almazrouei47@outlook.com",
         "Saudi Arabia",
         "2025-10-18"
        ],
        [
         148,
         "Yara Nasser",
         "yara.nasser48@yahoo.com",
         "UAE",
         "2025-10-19"
        ],
        [
         149,
         "Hassan Adel",
         "hassan.adel49@gmail.com",
         "Egypt",
         "2025-10-15"
        ],
        [
         150,
         "Leila Al Saud",
         "leila.alsaud50@hotmail.com",
         "Saudi Arabia",
         "2025-10-17"
        ]
       ],
       "datasetInfos": [],
       "dbfsResultPath": null,
       "isJsonSchema": true,
       "metadata": {},
       "overflow": false,
       "plotOptions": {
        "customPlotOptions": {},
        "displayType": "table",
        "pivotAggregation": null,
        "pivotColumns": null,
        "xColumns": null,
        "yColumns": null
       },
       "removedWidgets": [],
       "schema": [
        {
         "metadata": "{}",
         "name": "customer_id",
         "type": "\"long\""
        },
        {
         "metadata": "{}",
         "name": "full_name",
         "type": "\"string\""
        },
        {
         "metadata": "{}",
         "name": "email",
         "type": "\"string\""
        },
        {
         "metadata": "{}",
         "name": "country",
         "type": "\"string\""
        },
        {
         "metadata": "{}",
         "name": "registration_date",
         "type": "\"string\""
        }
       ],
       "type": "table"
      }
     },
     "output_type": "display_data"
    },
    {
     "output_type": "stream",
     "name": "stdout",
     "output_type": "stream",
     "text": [
      "root\n |-- customer_id: long (nullable = true)\n |-- full_name: string (nullable = true)\n |-- email: string (nullable = true)\n |-- country: string (nullable = true)\n |-- registration_date: string (nullable = true)\n\n"
     ]
    }
   ],
   "source": [
    "display(df_customers)\n",
    "df_customers.printSchema()"
   ]
  },
  {
   "cell_type": "code",
   "execution_count": 0,
   "metadata": {
    "application/vnd.databricks.v1+cell": {
     "cellMetadata": {
      "byteLimit": 2048000,
      "rowLimit": 10000
     },
     "inputWidgets": {},
     "nuid": "408d5847-1f16-4f48-bbcc-7eafd987b805",
     "showTitle": false,
     "tableResultSettingsMap": {},
     "title": ""
    }
   },
   "outputs": [
    {
     "output_type": "display_data",
     "data": {
      "text/html": [
       "<style scoped>\n",
       "  .table-result-container {\n",
       "    max-height: 300px;\n",
       "    overflow: auto;\n",
       "  }\n",
       "  table, th, td {\n",
       "    border: 1px solid black;\n",
       "    border-collapse: collapse;\n",
       "  }\n",
       "  th, td {\n",
       "    padding: 5px;\n",
       "  }\n",
       "  th {\n",
       "    text-align: left;\n",
       "  }\n",
       "</style><div class='table-result-container'><table class='table-result'><thead style='background-color: white'><tr><th>store_id</th><th>store_name</th><th>location</th></tr></thead><tbody><tr><td>1</td><td>City Mall Store</td><td>UAE</td></tr><tr><td>2</td><td>High Street Store</td><td>Saudi Arabia</td></tr><tr><td>3</td><td>Tech World Outlet</td><td>Qatar</td></tr><tr><td>4</td><td>Cairo Festival City Mall</td><td>Egypt</td></tr><tr><td>5</td><td>Mega Plaza</td><td>Kuwait</td></tr></tbody></table></div>"
      ]
     },
     "metadata": {
      "application/vnd.databricks.v1+output": {
       "addedWidgets": {},
       "aggData": [],
       "aggError": "",
       "aggOverflow": false,
       "aggSchema": [],
       "aggSeriesLimitReached": false,
       "aggType": "",
       "arguments": {},
       "columnCustomDisplayInfos": {},
       "data": [
        [
         1,
         "City Mall Store",
         "UAE"
        ],
        [
         2,
         "High Street Store",
         "Saudi Arabia"
        ],
        [
         3,
         "Tech World Outlet",
         "Qatar"
        ],
        [
         4,
         "Cairo Festival City Mall",
         "Egypt"
        ],
        [
         5,
         "Mega Plaza",
         "Kuwait"
        ]
       ],
       "datasetInfos": [],
       "dbfsResultPath": null,
       "isJsonSchema": true,
       "metadata": {},
       "overflow": false,
       "plotOptions": {
        "customPlotOptions": {},
        "displayType": "table",
        "pivotAggregation": null,
        "pivotColumns": null,
        "xColumns": null,
        "yColumns": null
       },
       "removedWidgets": [],
       "schema": [
        {
         "metadata": "{}",
         "name": "store_id",
         "type": "\"integer\""
        },
        {
         "metadata": "{}",
         "name": "store_name",
         "type": "\"string\""
        },
        {
         "metadata": "{}",
         "name": "location",
         "type": "\"string\""
        }
       ],
       "type": "table"
      }
     },
     "output_type": "display_data"
    },
    {
     "output_type": "stream",
     "name": "stdout",
     "output_type": "stream",
     "text": [
      "root\n |-- store_id: integer (nullable = true)\n |-- store_name: string (nullable = true)\n |-- location: string (nullable = true)\n\n"
     ]
    }
   ],
   "source": [
    "display(df_stores)\n",
    "df_stores.printSchema()"
   ]
  },
  {
   "cell_type": "code",
   "execution_count": 0,
   "metadata": {
    "application/vnd.databricks.v1+cell": {
     "cellMetadata": {
      "byteLimit": 2048000,
      "rowLimit": 10000
     },
     "inputWidgets": {},
     "nuid": "82345585-6c13-482c-9821-225cfae8f81b",
     "showTitle": false,
     "tableResultSettingsMap": {},
     "title": ""
    }
   },
   "outputs": [
    {
     "output_type": "display_data",
     "data": {
      "text/html": [
       "<style scoped>\n",
       "  .table-result-container {\n",
       "    max-height: 300px;\n",
       "    overflow: auto;\n",
       "  }\n",
       "  table, th, td {\n",
       "    border: 1px solid black;\n",
       "    border-collapse: collapse;\n",
       "  }\n",
       "  th, td {\n",
       "    padding: 5px;\n",
       "  }\n",
       "  th {\n",
       "    text-align: left;\n",
       "  }\n",
       "</style><div class='table-result-container'><table class='table-result'><thead style='background-color: white'><tr><th>transaction_id</th><th>customer_id</th><th>product_id</th><th>store_id</th><th>quantity</th><th>transaction_date</th></tr></thead><tbody><tr><td>31</td><td>101</td><td>1</td><td>1</td><td>3</td><td>2025-04-01</td></tr><tr><td>32</td><td>102</td><td>2</td><td>2</td><td>2</td><td>2025-04-03</td></tr><tr><td>33</td><td>103</td><td>3</td><td>3</td><td>1</td><td>2025-04-05</td></tr><tr><td>34</td><td>104</td><td>4</td><td>4</td><td>5</td><td>2025-04-07</td></tr><tr><td>35</td><td>105</td><td>5</td><td>5</td><td>2</td><td>2025-04-09</td></tr><tr><td>36</td><td>106</td><td>6</td><td>1</td><td>4</td><td>2025-04-11</td></tr><tr><td>37</td><td>107</td><td>7</td><td>2</td><td>1</td><td>2025-04-13</td></tr><tr><td>38</td><td>108</td><td>8</td><td>3</td><td>3</td><td>2025-04-15</td></tr><tr><td>39</td><td>109</td><td>9</td><td>4</td><td>2</td><td>2025-04-17</td></tr><tr><td>40</td><td>110</td><td>10</td><td>5</td><td>5</td><td>2025-04-19</td></tr><tr><td>41</td><td>111</td><td>1</td><td>1</td><td>1</td><td>2025-04-21</td></tr><tr><td>42</td><td>112</td><td>2</td><td>2</td><td>4</td><td>2025-04-23</td></tr><tr><td>43</td><td>113</td><td>3</td><td>3</td><td>2</td><td>2025-04-25</td></tr><tr><td>44</td><td>114</td><td>4</td><td>4</td><td>3</td><td>2025-04-27</td></tr><tr><td>45</td><td>115</td><td>5</td><td>5</td><td>1</td><td>2025-04-29</td></tr><tr><td>46</td><td>116</td><td>6</td><td>1</td><td>2</td><td>2025-05-01</td></tr><tr><td>47</td><td>117</td><td>7</td><td>2</td><td>5</td><td>2025-05-03</td></tr><tr><td>48</td><td>118</td><td>8</td><td>3</td><td>3</td><td>2025-05-05</td></tr><tr><td>49</td><td>119</td><td>9</td><td>4</td><td>4</td><td>2025-05-07</td></tr><tr><td>50</td><td>120</td><td>10</td><td>5</td><td>2</td><td>2025-05-09</td></tr><tr><td>51</td><td>121</td><td>1</td><td>1</td><td>3</td><td>2025-05-11</td></tr><tr><td>52</td><td>122</td><td>2</td><td>2</td><td>4</td><td>2025-05-13</td></tr><tr><td>53</td><td>123</td><td>3</td><td>3</td><td>2</td><td>2025-05-15</td></tr><tr><td>54</td><td>124</td><td>4</td><td>4</td><td>5</td><td>2025-05-17</td></tr><tr><td>55</td><td>125</td><td>5</td><td>5</td><td>1</td><td>2025-05-19</td></tr><tr><td>56</td><td>126</td><td>6</td><td>1</td><td>4</td><td>2025-05-21</td></tr><tr><td>57</td><td>127</td><td>7</td><td>2</td><td>2</td><td>2025-05-23</td></tr><tr><td>58</td><td>101</td><td>8</td><td>3</td><td>3</td><td>2025-05-25</td></tr><tr><td>59</td><td>102</td><td>9</td><td>4</td><td>5</td><td>2025-05-27</td></tr><tr><td>60</td><td>103</td><td>10</td><td>5</td><td>1</td><td>2025-05-29</td></tr><tr><td>61</td><td>104</td><td>1</td><td>1</td><td>2</td><td>2025-06-01</td></tr><tr><td>62</td><td>105</td><td>2</td><td>2</td><td>3</td><td>2025-06-03</td></tr><tr><td>63</td><td>106</td><td>3</td><td>3</td><td>4</td><td>2025-06-05</td></tr><tr><td>64</td><td>107</td><td>4</td><td>4</td><td>5</td><td>2025-06-07</td></tr><tr><td>65</td><td>108</td><td>5</td><td>5</td><td>1</td><td>2025-06-09</td></tr><tr><td>66</td><td>109</td><td>6</td><td>1</td><td>2</td><td>2025-06-11</td></tr><tr><td>67</td><td>110</td><td>7</td><td>2</td><td>3</td><td>2025-06-13</td></tr><tr><td>68</td><td>111</td><td>8</td><td>3</td><td>4</td><td>2025-06-15</td></tr><tr><td>69</td><td>112</td><td>9</td><td>4</td><td>5</td><td>2025-06-17</td></tr><tr><td>70</td><td>113</td><td>10</td><td>5</td><td>1</td><td>2025-06-19</td></tr><tr><td>71</td><td>114</td><td>1</td><td>1</td><td>3</td><td>2025-06-21</td></tr><tr><td>72</td><td>115</td><td>2</td><td>2</td><td>2</td><td>2025-06-23</td></tr><tr><td>73</td><td>116</td><td>3</td><td>3</td><td>1</td><td>2025-06-25</td></tr><tr><td>74</td><td>117</td><td>4</td><td>4</td><td>4</td><td>2025-06-27</td></tr><tr><td>75</td><td>118</td><td>5</td><td>5</td><td>5</td><td>2025-06-29</td></tr><tr><td>76</td><td>119</td><td>6</td><td>1</td><td>2</td><td>2025-07-01</td></tr><tr><td>77</td><td>120</td><td>7</td><td>2</td><td>3</td><td>2025-07-03</td></tr><tr><td>78</td><td>121</td><td>8</td><td>3</td><td>4</td><td>2025-07-05</td></tr><tr><td>79</td><td>122</td><td>9</td><td>4</td><td>1</td><td>2025-07-07</td></tr><tr><td>80</td><td>123</td><td>10</td><td>5</td><td>2</td><td>2025-07-09</td></tr></tbody></table></div>"
      ]
     },
     "metadata": {
      "application/vnd.databricks.v1+output": {
       "addedWidgets": {},
       "aggData": [],
       "aggError": "",
       "aggOverflow": false,
       "aggSchema": [],
       "aggSeriesLimitReached": false,
       "aggType": "",
       "arguments": {},
       "columnCustomDisplayInfos": {},
       "data": [
        [
         31,
         101,
         1,
         1,
         3,
         "2025-04-01"
        ],
        [
         32,
         102,
         2,
         2,
         2,
         "2025-04-03"
        ],
        [
         33,
         103,
         3,
         3,
         1,
         "2025-04-05"
        ],
        [
         34,
         104,
         4,
         4,
         5,
         "2025-04-07"
        ],
        [
         35,
         105,
         5,
         5,
         2,
         "2025-04-09"
        ],
        [
         36,
         106,
         6,
         1,
         4,
         "2025-04-11"
        ],
        [
         37,
         107,
         7,
         2,
         1,
         "2025-04-13"
        ],
        [
         38,
         108,
         8,
         3,
         3,
         "2025-04-15"
        ],
        [
         39,
         109,
         9,
         4,
         2,
         "2025-04-17"
        ],
        [
         40,
         110,
         10,
         5,
         5,
         "2025-04-19"
        ],
        [
         41,
         111,
         1,
         1,
         1,
         "2025-04-21"
        ],
        [
         42,
         112,
         2,
         2,
         4,
         "2025-04-23"
        ],
        [
         43,
         113,
         3,
         3,
         2,
         "2025-04-25"
        ],
        [
         44,
         114,
         4,
         4,
         3,
         "2025-04-27"
        ],
        [
         45,
         115,
         5,
         5,
         1,
         "2025-04-29"
        ],
        [
         46,
         116,
         6,
         1,
         2,
         "2025-05-01"
        ],
        [
         47,
         117,
         7,
         2,
         5,
         "2025-05-03"
        ],
        [
         48,
         118,
         8,
         3,
         3,
         "2025-05-05"
        ],
        [
         49,
         119,
         9,
         4,
         4,
         "2025-05-07"
        ],
        [
         50,
         120,
         10,
         5,
         2,
         "2025-05-09"
        ],
        [
         51,
         121,
         1,
         1,
         3,
         "2025-05-11"
        ],
        [
         52,
         122,
         2,
         2,
         4,
         "2025-05-13"
        ],
        [
         53,
         123,
         3,
         3,
         2,
         "2025-05-15"
        ],
        [
         54,
         124,
         4,
         4,
         5,
         "2025-05-17"
        ],
        [
         55,
         125,
         5,
         5,
         1,
         "2025-05-19"
        ],
        [
         56,
         126,
         6,
         1,
         4,
         "2025-05-21"
        ],
        [
         57,
         127,
         7,
         2,
         2,
         "2025-05-23"
        ],
        [
         58,
         101,
         8,
         3,
         3,
         "2025-05-25"
        ],
        [
         59,
         102,
         9,
         4,
         5,
         "2025-05-27"
        ],
        [
         60,
         103,
         10,
         5,
         1,
         "2025-05-29"
        ],
        [
         61,
         104,
         1,
         1,
         2,
         "2025-06-01"
        ],
        [
         62,
         105,
         2,
         2,
         3,
         "2025-06-03"
        ],
        [
         63,
         106,
         3,
         3,
         4,
         "2025-06-05"
        ],
        [
         64,
         107,
         4,
         4,
         5,
         "2025-06-07"
        ],
        [
         65,
         108,
         5,
         5,
         1,
         "2025-06-09"
        ],
        [
         66,
         109,
         6,
         1,
         2,
         "2025-06-11"
        ],
        [
         67,
         110,
         7,
         2,
         3,
         "2025-06-13"
        ],
        [
         68,
         111,
         8,
         3,
         4,
         "2025-06-15"
        ],
        [
         69,
         112,
         9,
         4,
         5,
         "2025-06-17"
        ],
        [
         70,
         113,
         10,
         5,
         1,
         "2025-06-19"
        ],
        [
         71,
         114,
         1,
         1,
         3,
         "2025-06-21"
        ],
        [
         72,
         115,
         2,
         2,
         2,
         "2025-06-23"
        ],
        [
         73,
         116,
         3,
         3,
         1,
         "2025-06-25"
        ],
        [
         74,
         117,
         4,
         4,
         4,
         "2025-06-27"
        ],
        [
         75,
         118,
         5,
         5,
         5,
         "2025-06-29"
        ],
        [
         76,
         119,
         6,
         1,
         2,
         "2025-07-01"
        ],
        [
         77,
         120,
         7,
         2,
         3,
         "2025-07-03"
        ],
        [
         78,
         121,
         8,
         3,
         4,
         "2025-07-05"
        ],
        [
         79,
         122,
         9,
         4,
         1,
         "2025-07-07"
        ],
        [
         80,
         123,
         10,
         5,
         2,
         "2025-07-09"
        ]
       ],
       "datasetInfos": [],
       "dbfsResultPath": null,
       "isJsonSchema": true,
       "metadata": {},
       "overflow": false,
       "plotOptions": {
        "customPlotOptions": {},
        "displayType": "table",
        "pivotAggregation": null,
        "pivotColumns": null,
        "xColumns": null,
        "yColumns": null
       },
       "removedWidgets": [],
       "schema": [
        {
         "metadata": "{}",
         "name": "transaction_id",
         "type": "\"integer\""
        },
        {
         "metadata": "{}",
         "name": "customer_id",
         "type": "\"integer\""
        },
        {
         "metadata": "{}",
         "name": "product_id",
         "type": "\"integer\""
        },
        {
         "metadata": "{}",
         "name": "store_id",
         "type": "\"integer\""
        },
        {
         "metadata": "{}",
         "name": "quantity",
         "type": "\"integer\""
        },
        {
         "metadata": "{}",
         "name": "transaction_date",
         "type": "\"date\""
        }
       ],
       "type": "table"
      }
     },
     "output_type": "display_data"
    },
    {
     "output_type": "stream",
     "name": "stdout",
     "output_type": "stream",
     "text": [
      "root\n |-- transaction_id: integer (nullable = true)\n |-- customer_id: integer (nullable = true)\n |-- product_id: integer (nullable = true)\n |-- store_id: integer (nullable = true)\n |-- quantity: integer (nullable = true)\n |-- transaction_date: date (nullable = true)\n\n"
     ]
    }
   ],
   "source": [
    "display(df_transaction)\n",
    "df_transaction.printSchema()"
   ]
  },
  {
   "cell_type": "code",
   "execution_count": 0,
   "metadata": {
    "application/vnd.databricks.v1+cell": {
     "cellMetadata": {
      "byteLimit": 2048000,
      "rowLimit": 10000
     },
     "inputWidgets": {},
     "nuid": "487b5fb1-ab47-49d3-98c0-5029df3f9c05",
     "showTitle": false,
     "tableResultSettingsMap": {},
     "title": ""
    }
   },
   "outputs": [
    {
     "output_type": "display_data",
     "data": {
      "text/html": [
       "<style scoped>\n",
       "  .table-result-container {\n",
       "    max-height: 300px;\n",
       "    overflow: auto;\n",
       "  }\n",
       "  table, th, td {\n",
       "    border: 1px solid black;\n",
       "    border-collapse: collapse;\n",
       "  }\n",
       "  th, td {\n",
       "    padding: 5px;\n",
       "  }\n",
       "  th {\n",
       "    text-align: left;\n",
       "  }\n",
       "</style><div class='table-result-container'><table class='table-result'><thead style='background-color: white'><tr><th>product_id</th><th>product_name</th><th>category</th><th>price</th></tr></thead><tbody><tr><td>1</td><td>Wireless Mouse</td><td>Electronics</td><td>800</td></tr><tr><td>2</td><td>Bluetooth Speaker</td><td>Electronics</td><td>1200</td></tr><tr><td>3</td><td>Yoga Mat</td><td>Fitness</td><td>499</td></tr><tr><td>4</td><td>Laptop Stand</td><td>Accessories</td><td>999</td></tr><tr><td>5</td><td>Notebook Set</td><td>Stationery</td><td>149</td></tr><tr><td>6</td><td>Water Bottle</td><td>Fitness</td><td>299</td></tr><tr><td>7</td><td>Smartwatch</td><td>Electronics</td><td>4999</td></tr><tr><td>8</td><td>Desk Organizer</td><td>Accessories</td><td>399</td></tr><tr><td>9</td><td>Dumbbell Set</td><td>Fitness</td><td>1999</td></tr><tr><td>10</td><td>Pen Drive 32GB</td><td>Electronics</td><td>599</td></tr></tbody></table></div>"
      ]
     },
     "metadata": {
      "application/vnd.databricks.v1+output": {
       "addedWidgets": {},
       "aggData": [],
       "aggError": "",
       "aggOverflow": false,
       "aggSchema": [],
       "aggSeriesLimitReached": false,
       "aggType": "",
       "arguments": {},
       "columnCustomDisplayInfos": {},
       "data": [
        [
         1,
         "Wireless Mouse",
         "Electronics",
         800
        ],
        [
         2,
         "Bluetooth Speaker",
         "Electronics",
         1200
        ],
        [
         3,
         "Yoga Mat",
         "Fitness",
         499
        ],
        [
         4,
         "Laptop Stand",
         "Accessories",
         999
        ],
        [
         5,
         "Notebook Set",
         "Stationery",
         149
        ],
        [
         6,
         "Water Bottle",
         "Fitness",
         299
        ],
        [
         7,
         "Smartwatch",
         "Electronics",
         4999
        ],
        [
         8,
         "Desk Organizer",
         "Accessories",
         399
        ],
        [
         9,
         "Dumbbell Set",
         "Fitness",
         1999
        ],
        [
         10,
         "Pen Drive 32GB",
         "Electronics",
         599
        ]
       ],
       "datasetInfos": [],
       "dbfsResultPath": null,
       "isJsonSchema": true,
       "metadata": {},
       "overflow": false,
       "plotOptions": {
        "customPlotOptions": {},
        "displayType": "table",
        "pivotAggregation": null,
        "pivotColumns": null,
        "xColumns": null,
        "yColumns": null
       },
       "removedWidgets": [],
       "schema": [
        {
         "metadata": "{}",
         "name": "product_id",
         "type": "\"integer\""
        },
        {
         "metadata": "{}",
         "name": "product_name",
         "type": "\"string\""
        },
        {
         "metadata": "{}",
         "name": "category",
         "type": "\"string\""
        },
        {
         "metadata": "{}",
         "name": "price",
         "type": "\"integer\""
        }
       ],
       "type": "table"
      }
     },
     "output_type": "display_data"
    },
    {
     "output_type": "stream",
     "name": "stdout",
     "output_type": "stream",
     "text": [
      "root\n |-- product_id: integer (nullable = true)\n |-- product_name: string (nullable = true)\n |-- category: string (nullable = true)\n |-- price: integer (nullable = true)\n\n"
     ]
    }
   ],
   "source": [
    "display(df_products)\n",
    "df_products.printSchema()"
   ]
  },
  {
   "cell_type": "code",
   "execution_count": 0,
   "metadata": {
    "application/vnd.databricks.v1+cell": {
     "cellMetadata": {
      "byteLimit": 2048000,
      "rowLimit": 10000
     },
     "inputWidgets": {},
     "nuid": "2e54fcb0-9a0f-401f-a8af-b6c33d31bdf6",
     "showTitle": false,
     "tableResultSettingsMap": {},
     "title": ""
    }
   },
   "outputs": [
    {
     "output_type": "stream",
     "name": "stdout",
     "output_type": "stream",
     "text": [
      "root\n |-- customer_id: integer (nullable = true)\n |-- full_name: string (nullable = true)\n |-- email: string (nullable = true)\n |-- country: string (nullable = true)\n |-- registration_date: date (nullable = true)\n\n"
     ]
    }
   ],
   "source": [
    "from pyspark.sql.functions import col\n",
    "df_customers = df_customers.select(\n",
    "    col(\"customer_id\").cast(\"int\"),\n",
    "    col(\"full_name\"),\n",
    "    col(\"email\"),\n",
    "    col(\"country\"),\n",
    "    col( \"registration_date\").cast(\"date\")\n",
    ")\n",
    "df_customers.printSchema()"
   ]
  },
  {
   "cell_type": "code",
   "execution_count": 0,
   "metadata": {
    "application/vnd.databricks.v1+cell": {
     "cellMetadata": {
      "byteLimit": 2048000,
      "rowLimit": 10000
     },
     "inputWidgets": {},
     "nuid": "828a9d37-c6d1-41bd-bcce-d894f0c439d5",
     "showTitle": false,
     "tableResultSettingsMap": {},
     "title": ""
    }
   },
   "outputs": [],
   "source": [
    "df_ratials_silver = df_transaction.join(df_customers,\"customer_id\").join(df_products,\"product_id\").join(df_stores,\"store_id\")\n",
    "df_ratials_silver.write.mode(\"overwrite\").saveAsTable(\"cat1.sales.retails_silver\")"
   ]
  },
  {
   "cell_type": "code",
   "execution_count": 0,
   "metadata": {
    "application/vnd.databricks.v1+cell": {
     "cellMetadata": {
      "byteLimit": 2048000,
      "rowLimit": 10000
     },
     "inputWidgets": {},
     "nuid": "93ce66c2-0709-48e0-8dfc-48f8676c2519",
     "showTitle": false,
     "tableResultSettingsMap": {},
     "title": ""
    }
   },
   "outputs": [],
   "source": [
    "from pyspark.sql.functions import sum, count\n",
    "df_sales_by_country = df_ratials_silver.groupBy(\"country\").agg(count(\"transaction_id\").alias(\"total_sales\"))\n",
    "df_sales_by_country.write.mode(\"overwrite\").saveAsTable(\"cat1.sales.sales_by_country_gold\")"
   ]
  },
  {
   "cell_type": "code",
   "execution_count": 0,
   "metadata": {
    "application/vnd.databricks.v1+cell": {
     "cellMetadata": {
      "byteLimit": 2048000,
      "rowLimit": 10000
     },
     "inputWidgets": {},
     "nuid": "89e8f567-89b7-45e5-8b19-00a951f11295",
     "showTitle": false,
     "tableResultSettingsMap": {},
     "title": ""
    }
   },
   "outputs": [],
   "source": [
    "customer_product_affinity = df_ratials_silver.groupBy(\"customer_id\", \"full_name\", \"product_id\", \"product_name\", \"category\") \\\n",
    "    .agg(\n",
    "        sum(\"quantity\").alias(\"total_quantity_purchased\"),\n",
    "        count(\"transaction_id\").alias(\"purchase_frequency\")\n",
    "    ) \\\n",
    "    .orderBy(\"customer_id\", col(\"total_quantity_purchased\").desc())"
   ]
  },
  {
   "cell_type": "code",
   "execution_count": 0,
   "metadata": {
    "application/vnd.databricks.v1+cell": {
     "cellMetadata": {
      "byteLimit": 2048000,
      "rowLimit": 10000
     },
     "inputWidgets": {},
     "nuid": "b0c4531a-3aa4-434e-818f-10b8ad2f1df6",
     "showTitle": false,
     "tableResultSettingsMap": {},
     "title": ""
    }
   },
   "outputs": [],
   "source": [
    "customer_product_affinity.write.mode(\"overwrite\").saveAsTable(\"cat1.sales.customer_product_affinity_gold\")"
   ]
  },
  {
   "cell_type": "code",
   "execution_count": 0,
   "metadata": {
    "application/vnd.databricks.v1+cell": {
     "cellMetadata": {
      "byteLimit": 2048000,
      "rowLimit": 10000
     },
     "inputWidgets": {},
     "nuid": "71caba10-2175-48a3-a5a7-736f74c5809b",
     "showTitle": false,
     "tableResultSettingsMap": {},
     "title": ""
    }
   },
   "outputs": [],
   "source": [
    "store_product_performance = df_ratials_silver.groupBy(\"store_id\", \"store_name\", \"product_id\", \"product_name\") \\\n",
    "    .agg(\n",
    "        sum(\"quantity\").alias(\"quantity_sold\"),\n",
    "        sum(col(\"quantity\") * col(\"price\")).alias(\"revenue_generated\")\n",
    "    ) \\\n",
    "    .orderBy(\"store_id\", col(\"revenue_generated\").desc())\n"
   ]
  },
  {
   "cell_type": "code",
   "execution_count": 0,
   "metadata": {
    "application/vnd.databricks.v1+cell": {
     "cellMetadata": {
      "byteLimit": 2048000,
      "rowLimit": 10000
     },
     "inputWidgets": {},
     "nuid": "8ad5eff0-87d2-425d-bef9-321c4053b70e",
     "showTitle": false,
     "tableResultSettingsMap": {},
     "title": ""
    }
   },
   "outputs": [],
   "source": [
    "store_product_performance.write.mode(\"overwrite\").saveAsTable(\"cat1.sales.store_product_performance_gold\")"
   ]
  },
  {
   "cell_type": "code",
   "execution_count": 0,
   "metadata": {
    "application/vnd.databricks.v1+cell": {
     "cellMetadata": {
      "byteLimit": 2048000,
      "rowLimit": 10000
     },
     "inputWidgets": {},
     "nuid": "54a3460a-c440-4a9c-9dd1-733ecda9210a",
     "showTitle": false,
     "tableResultSettingsMap": {},
     "title": ""
    }
   },
   "outputs": [],
   "source": [
    "from pyspark.sql import functions as F\n",
    "from pyspark.sql.functions import col, sum, avg, count, countDistinct, month, year, quarter, datediff, current_date, max as max_, min as min_\n"
   ]
  },
  {
   "cell_type": "code",
   "execution_count": 0,
   "metadata": {
    "application/vnd.databricks.v1+cell": {
     "cellMetadata": {
      "byteLimit": 2048000,
      "rowLimit": 10000
     },
     "inputWidgets": {},
     "nuid": "be8b7bbc-18be-4dff-bb73-8e1495678645",
     "showTitle": false,
     "tableResultSettingsMap": {},
     "title": ""
    }
   },
   "outputs": [],
   "source": [
    "price_segment_analysis = df_ratials_silver \\\n",
    "    .withColumn(\"price_segment\", \n",
    "                F.when(col(\"price\") < 500, \"Budget\")\n",
    "                 .when(col(\"price\") < 1500, \"Mid-Range\")\n",
    "                 .otherwise(\"Premium\")) \\\n",
    "    .groupBy(\"price_segment\", \"category\") \\\n",
    "    .agg(\n",
    "        count(\"transaction_id\").alias(\"transaction_count\"),\n",
    "        sum(\"quantity\").alias(\"total_quantity\"),\n",
    "        sum(col(\"quantity\") * col(\"price\")).alias(\"total_revenue\")\n",
    "    ) \\\n",
    "    .orderBy(\"price_segment\", col(\"total_revenue\").desc())\n"
   ]
  },
  {
   "cell_type": "code",
   "execution_count": 0,
   "metadata": {
    "application/vnd.databricks.v1+cell": {
     "cellMetadata": {
      "byteLimit": 2048000,
      "rowLimit": 10000
     },
     "inputWidgets": {},
     "nuid": "e62dff46-a64f-4676-a7aa-46cb28619219",
     "showTitle": false,
     "tableResultSettingsMap": {},
     "title": ""
    }
   },
   "outputs": [],
   "source": [
    "price_segment_analysis.write.mode(\"overwrite\").saveAsTable(\"cat1.sales.price_segment_analysis_gold\")"
   ]
  },
  {
   "cell_type": "code",
   "execution_count": 0,
   "metadata": {
    "application/vnd.databricks.v1+cell": {
     "cellMetadata": {
      "byteLimit": 2048000,
      "rowLimit": 10000
     },
     "inputWidgets": {},
     "nuid": "4be299ff-5a3c-425a-8733-4e1cabc67c40",
     "showTitle": false,
     "tableResultSettingsMap": {},
     "title": ""
    }
   },
   "outputs": [],
   "source": [
    "seasonal_analysis = df_ratials_silver \\\n",
    "    .withColumn(\"month\", month(\"transaction_date\")) \\\n",
    "    .withColumn(\"season\",\n",
    "                F.when(col(\"month\").isin(12, 1, 2), \"Winter\")\n",
    "                 .when(col(\"month\").isin(3, 4, 5), \"Spring\")\n",
    "                 .when(col(\"month\").isin(6, 7, 8), \"Summer\")\n",
    "                 .otherwise(\"Fall\")) \\\n",
    "    .groupBy(\"season\", \"category\") \\\n",
    "    .agg(\n",
    "        sum(col(\"quantity\") * col(\"price\")).alias(\"seasonal_revenue\"),\n",
    "        sum(\"quantity\").alias(\"seasonal_quantity\")\n",
    "    ) \\\n",
    "    .orderBy(\"season\", col(\"seasonal_revenue\").desc())\n"
   ]
  },
  {
   "cell_type": "code",
   "execution_count": 0,
   "metadata": {
    "application/vnd.databricks.v1+cell": {
     "cellMetadata": {
      "byteLimit": 2048000,
      "rowLimit": 10000
     },
     "inputWidgets": {},
     "nuid": "8ae7e84b-5c25-49df-b0fe-a8b7d3713b76",
     "showTitle": false,
     "tableResultSettingsMap": {},
     "title": ""
    }
   },
   "outputs": [],
   "source": [
    "seasonal_analysis.write.mode(\"overwrite\").saveAsTable(\"cat1.sales.seasonal_analysis_gold\")"
   ]
  },
  {
   "cell_type": "code",
   "execution_count": 0,
   "metadata": {
    "application/vnd.databricks.v1+cell": {
     "cellMetadata": {
      "byteLimit": 2048000,
      "rowLimit": 10000
     },
     "inputWidgets": {},
     "nuid": "5c8c881b-9637-4d3f-9b68-9770edd8697a",
     "showTitle": false,
     "tableResultSettingsMap": {},
     "title": ""
    }
   },
   "outputs": [],
   "source": [
    "category_country_performance = df_ratials_silver.groupBy(\"country\", \"category\") \\\n",
    "    .agg(\n",
    "        sum(col(\"quantity\") * col(\"price\")).alias(\"revenue\"),\n",
    "        sum(\"quantity\").alias(\"quantity_sold\"),\n",
    "        countDistinct(\"product_id\").alias(\"unique_products\")\n",
    "    ) \\\n",
    "    .orderBy(\"country\", col(\"revenue\").desc())"
   ]
  },
  {
   "cell_type": "code",
   "execution_count": 0,
   "metadata": {
    "application/vnd.databricks.v1+cell": {
     "cellMetadata": {
      "byteLimit": 2048000,
      "rowLimit": 10000
     },
     "inputWidgets": {},
     "nuid": "d253340d-90dd-43fe-9930-f5b7433337b6",
     "showTitle": false,
     "tableResultSettingsMap": {},
     "title": ""
    }
   },
   "outputs": [],
   "source": [
    "category_country_performance.write.mode(\"overwrite\").saveAsTable(\"cat1.sales.category_country_performance_gold\")"
   ]
  },
  {
   "cell_type": "code",
   "execution_count": 0,
   "metadata": {
    "application/vnd.databricks.v1+cell": {
     "cellMetadata": {
      "byteLimit": 2048000,
      "rowLimit": 10000
     },
     "inputWidgets": {},
     "nuid": "73f2df5e-5bcc-42c3-af40-69a53f159131",
     "showTitle": false,
     "tableResultSettingsMap": {},
     "title": ""
    }
   },
   "outputs": [],
   "source": [
    "country_detailed_analysis = df_ratials_silver.groupBy(\"country\") \\\n",
    "    .agg(\n",
    "        countDistinct(\"customer_id\").alias(\"unique_customers\"),\n",
    "        countDistinct(\"store_id\").alias(\"unique_stores\"),\n",
    "        count(\"transaction_id\").alias(\"total_transactions\"),\n",
    "        sum(\"quantity\").alias(\"total_quantity_sold\"),\n",
    "        sum(col(\"quantity\") * col(\"price\")).alias(\"total_revenue\"),\n",
    "        avg(col(\"quantity\") * col(\"price\")).alias(\"avg_transaction_value\"),\n",
    "        countDistinct(\"product_id\").alias(\"unique_products\")\n",
    "    ) \\\n",
    "    .orderBy(col(\"total_revenue\").desc())"
   ]
  },
  {
   "cell_type": "code",
   "execution_count": 0,
   "metadata": {
    "application/vnd.databricks.v1+cell": {
     "cellMetadata": {
      "byteLimit": 2048000,
      "rowLimit": 10000
     },
     "inputWidgets": {},
     "nuid": "c19679a3-f504-4f85-870f-d07b4b4721ff",
     "showTitle": false,
     "tableResultSettingsMap": {},
     "title": ""
    }
   },
   "outputs": [],
   "source": [
    "country_detailed_analysis.write.mode(\"overwrite\").saveAsTable(\"cat1.sales.country_detailed_analysis_gold\")"
   ]
  },
  {
   "cell_type": "code",
   "execution_count": 0,
   "metadata": {
    "application/vnd.databricks.v1+cell": {
     "cellMetadata": {
      "byteLimit": 2048000,
      "rowLimit": 10000
     },
     "inputWidgets": {},
     "nuid": "c8bfd853-a23c-429b-9c06-fcccba46ac5d",
     "showTitle": false,
     "tableResultSettingsMap": {},
     "title": ""
    }
   },
   "outputs": [],
   "source": [
    "country_detailed_analysis.write.mode(\"overwrite\").saveAsTable(\"cat1.sales.country_detailed_analysis_gold\")"
   ]
  },
  {
   "cell_type": "code",
   "execution_count": 0,
   "metadata": {
    "application/vnd.databricks.v1+cell": {
     "cellMetadata": {
      "byteLimit": 2048000,
      "rowLimit": 10000
     },
     "inputWidgets": {},
     "nuid": "d75b4ee0-e047-484d-801d-1bef719edf7c",
     "showTitle": false,
     "tableResultSettingsMap": {},
     "title": ""
    }
   },
   "outputs": [],
   "source": [
    "store_customer_analysis = df_ratials_silver.groupBy(\"store_id\", \"store_name\", \"location\") \\\n",
    "    .agg(\n",
    "        countDistinct(\"customer_id\").alias(\"unique_customers\"),\n",
    "        count(\"transaction_id\").alias(\"total_transactions\")\n",
    "    ) \\\n",
    "    .withColumn(\"avg_transactions_per_customer\", col(\"total_transactions\") / col(\"unique_customers\")) \\\n",
    "    .orderBy(col(\"unique_customers\").desc())"
   ]
  },
  {
   "cell_type": "code",
   "execution_count": 0,
   "metadata": {
    "application/vnd.databricks.v1+cell": {
     "cellMetadata": {
      "byteLimit": 2048000,
      "rowLimit": 10000
     },
     "inputWidgets": {},
     "nuid": "f560939a-9a45-4e06-87c6-7b1d601ebcaa",
     "showTitle": false,
     "tableResultSettingsMap": {},
     "title": ""
    }
   },
   "outputs": [],
   "source": [
    "store_customer_analysis.write.mode(\"overwrite\").saveAsTable(\"cat1.sales.store_customer_analysis_gold\")"
   ]
  },
  {
   "cell_type": "code",
   "execution_count": 0,
   "metadata": {
    "application/vnd.databricks.v1+cell": {
     "cellMetadata": {
      "byteLimit": 2048000,
      "rowLimit": 10000
     },
     "inputWidgets": {},
     "nuid": "7b75e49e-c658-4158-acd1-d8a9ee5eba9f",
     "showTitle": false,
     "tableResultSettingsMap": {},
     "title": ""
    }
   },
   "outputs": [],
   "source": [
    "from pyspark.sql.functions import month, year, quarter"
   ]
  },
  {
   "cell_type": "code",
   "execution_count": 0,
   "metadata": {
    "application/vnd.databricks.v1+cell": {
     "cellMetadata": {
      "byteLimit": 2048000,
      "rowLimit": 10000
     },
     "inputWidgets": {},
     "nuid": "5125f16d-4df4-4134-aad5-199bf3e495ec",
     "showTitle": false,
     "tableResultSettingsMap": {},
     "title": ""
    }
   },
   "outputs": [],
   "source": [
    "monthly_sales = df_ratials_silver \\\n",
    "    .withColumn(\"transaction_month\", month(\"transaction_date\")) \\\n",
    "    .withColumn(\"transaction_year\", year(\"transaction_date\")) \\\n",
    "    .withColumn(\"transaction_quarter\", quarter(\"transaction_date\")) \\\n",
    "    .groupBy(\"transaction_year\", \"transaction_quarter\", \"transaction_month\") \\\n",
    "    .agg(\n",
    "        sum(col(\"quantity\") * col(\"price\")).alias(\"monthly_revenue\"),\n",
    "        sum(\"quantity\").alias(\"monthly_quantity\"),\n",
    "        countDistinct(\"transaction_id\").alias(\"monthly_transactions\"),\n",
    "        countDistinct(\"customer_id\").alias(\"monthly_customers\")\n",
    "    ) \\\n",
    "    .orderBy(\"transaction_year\", \"transaction_month\")"
   ]
  },
  {
   "cell_type": "code",
   "execution_count": 0,
   "metadata": {
    "application/vnd.databricks.v1+cell": {
     "cellMetadata": {
      "byteLimit": 2048000,
      "rowLimit": 10000
     },
     "inputWidgets": {},
     "nuid": "86db41d4-f495-4b85-9636-db2962e11a63",
     "showTitle": false,
     "tableResultSettingsMap": {},
     "title": ""
    }
   },
   "outputs": [],
   "source": [
    "monthly_sales.write.mode(\"overwrite\").saveAsTable(\"cat1.sales.monthly_sales_gold\")"
   ]
  },
  {
   "cell_type": "code",
   "execution_count": 0,
   "metadata": {
    "application/vnd.databricks.v1+cell": {
     "cellMetadata": {
      "byteLimit": 2048000,
      "rowLimit": 10000
     },
     "inputWidgets": {},
     "nuid": "2714ade9-506a-4da0-aced-407da0398329",
     "showTitle": false,
     "tableResultSettingsMap": {},
     "title": ""
    }
   },
   "outputs": [],
   "source": [
    "product_performance = df_ratials_silver.groupBy(\"product_id\", \"product_name\", \"category\") \\\n",
    "    .agg(\n",
    "        sum(\"quantity\").alias(\"total_quantity_sold\"),\n",
    "        sum(col(\"quantity\") * col(\"price\")).alias(\"total_revenue\"),\n",
    "        countDistinct(\"transaction_id\").alias(\"unique_transactions\"),\n",
    "        countDistinct(\"customer_id\").alias(\"unique_customers\")\n",
    "    ) \\\n",
    "    .orderBy(col(\"total_revenue\").desc())"
   ]
  },
  {
   "cell_type": "code",
   "execution_count": 0,
   "metadata": {
    "application/vnd.databricks.v1+cell": {
     "cellMetadata": {
      "byteLimit": 2048000,
      "rowLimit": 10000
     },
     "inputWidgets": {},
     "nuid": "345ee5f8-c022-440b-9d89-80af8f61ffd1",
     "showTitle": false,
     "tableResultSettingsMap": {},
     "title": ""
    }
   },
   "outputs": [],
   "source": [
    "product_performance.write.mode(\"overwrite\").saveAsTable(\"cat1.sales.product_performance_gold\")"
   ]
  },
  {
   "cell_type": "code",
   "execution_count": 0,
   "metadata": {
    "application/vnd.databricks.v1+cell": {
     "cellMetadata": {
      "byteLimit": 2048000,
      "rowLimit": 10000
     },
     "inputWidgets": {},
     "nuid": "7faeac26-a0c5-41d8-9116-89c29a01e69d",
     "showTitle": false,
     "tableResultSettingsMap": {},
     "title": ""
    }
   },
   "outputs": [],
   "source": [
    "customer_registration_trends = df_customers \\\n",
    "    .withColumn(\"reg_month\", month(\"registration_date\")) \\\n",
    "    .withColumn(\"reg_year\", year(\"registration_date\")) \\\n",
    "    .groupBy(\"reg_year\", \"reg_month\", \"country\") \\\n",
    "    .agg(count(\"customer_id\").alias(\"new_customers\")) \\\n",
    "    .orderBy(\"reg_year\", \"reg_month\")"
   ]
  }
 ],
 "metadata": {
  "application/vnd.databricks.v1+notebook": {
   "computePreferences": null,
   "dashboards": [],
   "environmentMetadata": {
    "base_environment": "",
    "environment_version": "4"
   },
   "inputWidgetPreferences": null,
   "language": "python",
   "notebookMetadata": {
    "mostRecentlyExecutedCommandWithImplicitDF": {
     "commandId": 5342462057499733,
     "dataframes": [
      "_sqldf"
     ]
    },
    "pythonIndentUnit": 4
   },
   "notebookName": "code",
   "widgets": {}
  },
  "language_info": {
   "name": "python"
  }
 },
 "nbformat": 4,
 "nbformat_minor": 0
}